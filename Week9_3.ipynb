{
  "nbformat": 4,
  "nbformat_minor": 0,
  "metadata": {
    "colab": {
      "name": "Week9_3.ipynb",
      "provenance": []
    },
    "kernelspec": {
      "name": "python3",
      "display_name": "Python 3"
    },
    "language_info": {
      "name": "python"
    }
  },
  "cells": [
    {
      "cell_type": "code",
      "execution_count": 1,
      "metadata": {
        "id": "7R4j4q29kd42"
      },
      "outputs": [],
      "source": [
        "import hashlib\n",
        "import json\n",
        "import time\n",
        "from typing import List"
      ]
    },
    {
      "cell_type": "code",
      "source": [
        "class Block():\n",
        "  def __init__(self,\n",
        "               index:int =0,\n",
        "               transactions:list=[],\n",
        "               timestamp:int=0,\n",
        "               cur_hash:str=\"\",\n",
        "               previous_hash:str=\"\",\n",
        "               nonce:int=0):\n",
        "    \n",
        "    self.index:int= index\n",
        "    self.transactions:list=transactions\n",
        "    self.timestamp =timestamp\n",
        "    self.hash:str=cur_hash\n",
        "    self.previous_hash:str=previous_hash\n",
        "    self.nonce:int=nonce\n",
        "\n",
        "    def compute_hash(self) -> str:\n",
        "      block_string = json.dumps(self.__dict__, sort_keys= True)\n",
        "      return hashlib.sha256(block_string.encode()).hexdigest()\n"
      ],
      "metadata": {
        "id": "1id23XlBklIT"
      },
      "execution_count": 2,
      "outputs": []
    },
    {
      "cell_type": "code",
      "source": [
        "tx_1 = {\n",
        "   \"addr_from\": \"3J98t1WpEZ73CNmQviecrnyiWrnqRhWNLy\",\n",
        "   \"addr_to\": \"1BvBMSEYstWetqTFn5Au4m4GFg7xJaNVN2\",   \n",
        "   \"amount\": 99.00\n",
        "}"
      ],
      "metadata": {
        "id": "CyntsoMQkqDB"
      },
      "execution_count": 3,
      "outputs": []
    },
    {
      "cell_type": "code",
      "source": [
        "class Blockchain:\n",
        "  def __init__(self):\n",
        "    pass"
      ],
      "metadata": {
        "id": "2b5GdKF_kt8X"
      },
      "execution_count": 4,
      "outputs": []
    },
    {
      "cell_type": "code",
      "source": [
        "class Blockchain:\n",
        "  def __init__(self):\n",
        "    self.unconfirmed_transactions = []\n",
        "    self.chain = []\n",
        "    self.difficulty = 2\n",
        "    self.create_genesis_block()"
      ],
      "metadata": {
        "id": "Bxu8j0MfkxY9"
      },
      "execution_count": 5,
      "outputs": []
    },
    {
      "cell_type": "code",
      "source": [
        "def create_genesis_block(self):\n",
        "  genesis_block = Block(index=0, transactions=[], timestamp=time.time(), previous_hash=\"0\") \n",
        "  genesis_block.hash = genesis_block.compute_hash()\n",
        "  self.chain.append(genesis_block)\n",
        "\n",
        "\n",
        "def get_last_block(self) -> Block: \n",
        "  return self.chain[-1]\n",
        "\n",
        "\n",
        "def proof_of_work(self, block:Block) -> str:\n",
        "  computed_hash = bolck.compute_hash()\n",
        "  while not computed_hash.startswith('0' * self.difficulty):\n",
        "    block.nonce += 1\n",
        "    computed_hash = block.compute_hash()\n",
        "  return computed_hash \n",
        "   \n",
        "\n",
        "def is_valid_proof(self, block:Block, block_hash:str) -> bool:\n",
        "     return block_hash.startswith('0' * self.difficulty) and block_hash == block.compute_hash()\n",
        "\n",
        "\n",
        "def add_block(self, block:Block, proof:str) -> bool:\n",
        "  last_block = self.get_last_block()\n",
        "  last_block.hash\n",
        "  \n",
        "  if last_block.hash != block.previous_hash:\n",
        "    return False\n",
        "  if not self.is_valid_proof(block, proof):\n",
        "    return False\n",
        "\n",
        "  block.hash =proof\n",
        "  self.chain.append(block)\n",
        "  return True\n",
        "  def add_new_transaction(self, transaction:dict) -> None:\n",
        "      self.unconfirmed_transactions.append(transaction)\n",
        "\n",
        "def mine(self) -> int:\n",
        "      if len(self.unconfirmed_transactions)<1:\n",
        "        return -1\n",
        "      last_block = self.get_last_block()\n",
        "      self.unconfirmed_transactions.append(tx_1)\n",
        "\n",
        "      new_block= Block(index=last_block.index + 1,\n",
        "                       transactions=self.unconfirmed_transactions,\n",
        "                       timestamp=time.time(),\n",
        "                       previous_hash=last_block.hash)\n",
        "      \n",
        "      proof = self.proof_of_work(new_block)\n",
        "      self.add_block(new_block,proof)\n",
        "      self.unconfirmed_transactions=[]\n",
        "      return new_block.index"
      ],
      "metadata": {
        "id": "L_05HeMGkxdx"
      },
      "execution_count": 7,
      "outputs": []
    },
    {
      "cell_type": "code",
      "source": [
        ""
      ],
      "metadata": {
        "id": "PJHgiQg1kxh0"
      },
      "execution_count": null,
      "outputs": []
    }
  ]
}